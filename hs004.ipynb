{
 "cells": [
  {
   "cell_type": "code",
   "execution_count": 1,
   "id": "e9d0a69f",
   "metadata": {},
   "outputs": [],
   "source": [
    "using JuMP, Ipopt"
   ]
  },
  {
   "cell_type": "markdown",
   "id": "e5e28384",
   "metadata": {},
   "source": [
    "# Model hs04\n",
    "  Variables\n",
    "  \n",
    "    x[1] = 1.125, >= 1\n",
    "    x[2] = 0.125, >= 0\n",
    "    obj\n",
    "  End Variables\n",
    "\n",
    "  Equations\n",
    "  \n",
    "    ! best known objective = 8/3\n",
    "    obj = (x[1]+1)^3/3 + x[2]\n",
    "  End Equations\n",
    "End Model\n"
   ]
  },
  {
   "cell_type": "code",
   "execution_count": 2,
   "id": "9471ba3b",
   "metadata": {},
   "outputs": [
    {
     "data": {
      "text/plain": [
       "A JuMP Model\n",
       "Feasibility problem with:\n",
       "Variables: 0\n",
       "Model mode: AUTOMATIC\n",
       "CachingOptimizer state: EMPTY_OPTIMIZER\n",
       "Solver name: Ipopt"
      ]
     },
     "execution_count": 2,
     "metadata": {},
     "output_type": "execute_result"
    }
   ],
   "source": [
    "model = Model(Ipopt.Optimizer)"
   ]
  },
  {
   "cell_type": "code",
   "execution_count": 3,
   "id": "b00b4509",
   "metadata": {},
   "outputs": [
    {
     "name": "stdout",
     "output_type": "stream",
     "text": [
      "\n",
      "******************************************************************************\n",
      "This program contains Ipopt, a library for large-scale nonlinear optimization.\n",
      " Ipopt is released as open source code under the Eclipse Public License (EPL).\n",
      "         For more information visit https://github.com/coin-or/Ipopt\n",
      "******************************************************************************\n",
      "\n",
      "This is Ipopt version 3.14.12, running with linear solver MUMPS 5.5.1.\n",
      "\n",
      "Number of nonzeros in equality constraint Jacobian...:        0\n",
      "Number of nonzeros in inequality constraint Jacobian.:        2\n",
      "Number of nonzeros in Lagrangian Hessian.............:        1\n",
      "\n",
      "Total number of variables............................:        2\n",
      "                     variables with only lower bounds:        0\n",
      "                variables with lower and upper bounds:        0\n",
      "                     variables with only upper bounds:        0\n",
      "Total number of equality constraints.................:        0\n",
      "Total number of inequality constraints...............:        2\n",
      "        inequality constraints with only lower bounds:        2\n",
      "   inequality constraints with lower and upper bounds:        0\n",
      "        inequality constraints with only upper bounds:        0\n",
      "\n",
      "iter    objective    inf_pr   inf_du lg(mu)  ||d||  lg(rg) alpha_du alpha_pr  ls\n",
      "   0  3.3235677e+00 0.00e+00 1.76e+00  -1.0 0.00e+00    -  0.00e+00 0.00e+00   0\n",
      "   1  2.7864700e+00 0.00e+00 1.06e+00  -1.0 3.03e-01    -  1.00e+00 4.08e-01f  1\n",
      "   2  2.8911379e+00 0.00e+00 8.64e-04  -1.0 2.94e-02    -  1.00e+00 1.00e+00f  1\n",
      "   3  2.6757312e+00 0.00e+00 8.46e-04  -2.5 9.72e-02    -  1.00e+00 1.00e+00f  1\n",
      "   4  2.6669754e+00 0.00e+00 2.30e-06  -3.8 2.68e-03    -  1.00e+00 1.00e+00f  1\n",
      "   5  2.6666703e+00 0.00e+00 1.53e-09  -5.7 1.49e-04    -  1.00e+00 1.00e+00f  1\n",
      "   6  2.6666666e+00 0.00e+00 2.15e-13  -8.6 1.84e-06    -  1.00e+00 1.00e+00f  1\n",
      "\n",
      "Number of Iterations....: 6\n",
      "\n",
      "                                   (scaled)                 (unscaled)\n",
      "Objective...............:   2.6666666216793278e+00    2.6666666216793278e+00\n",
      "Dual infeasibility......:   2.1493917756743031e-13    2.1493917756743031e-13\n",
      "Constraint violation....:   0.0000000000000000e+00    0.0000000000000000e+00\n",
      "Variable bound violation:   0.0000000000000000e+00    0.0000000000000000e+00\n",
      "Complementarity.........:   2.5067570441494268e-09    2.5067570441494268e-09\n",
      "Overall NLP error.......:   2.5067570441494268e-09    2.5067570441494268e-09\n",
      "\n",
      "\n",
      "Number of objective function evaluations             = 7\n",
      "Number of objective gradient evaluations             = 7\n",
      "Number of equality constraint evaluations            = 0\n",
      "Number of inequality constraint evaluations          = 7\n",
      "Number of equality constraint Jacobian evaluations   = 0\n",
      "Number of inequality constraint Jacobian evaluations = 7\n",
      "Number of Lagrangian Hessian evaluations             = 6\n",
      "Total seconds in IPOPT                               = 0.004\n",
      "\n",
      "EXIT: Optimal Solution Found.\n"
     ]
    }
   ],
   "source": [
    "x0 = [1.125; 0.125]\n",
    "lb = [1.0; 0.0]\n",
    "\n",
    "@variable(model, x[i=1:2], start = x0[i])\n",
    "@NLconstraint(model, [i=1:2], x[i] >= lb[i])\n",
    "\n",
    "@NLobjective(model, Min, (x[1] + 1)^3 / 3 + x[2])\n",
    "\n",
    "optimize!(model)"
   ]
  },
  {
   "cell_type": "code",
   "execution_count": 4,
   "id": "ac3807ee",
   "metadata": {},
   "outputs": [
    {
     "name": "stdout",
     "output_type": "stream",
     "text": [
      "Objective value: 2.6666666216793278\n",
      "x[1] = 0.9999999906266893\n",
      "x[2] = -7.494096406374967e-9\n"
     ]
    }
   ],
   "source": [
    "# Check check results\n",
    "println(\"Objective value: \", objective_value(model))\n",
    "for i = 1:length(x)\n",
    "    println(\"x[$i] = \", value(x[i]))\n",
    "end"
   ]
  },
  {
   "cell_type": "code",
   "execution_count": null,
   "id": "7b047ab1",
   "metadata": {},
   "outputs": [],
   "source": []
  }
 ],
 "metadata": {
  "kernelspec": {
   "display_name": "Julia 1.9.0",
   "language": "julia",
   "name": "julia-1.9"
  },
  "language_info": {
   "file_extension": ".jl",
   "mimetype": "application/julia",
   "name": "julia",
   "version": "1.9.0"
  }
 },
 "nbformat": 4,
 "nbformat_minor": 5
}
