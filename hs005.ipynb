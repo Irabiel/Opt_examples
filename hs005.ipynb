{
 "cells": [
  {
   "cell_type": "code",
   "execution_count": 1,
   "id": "970cba10",
   "metadata": {},
   "outputs": [],
   "source": [
    "using JuMP, Ipopt"
   ]
  },
  {
   "cell_type": "markdown",
   "id": "418154d5",
   "metadata": {},
   "source": [
    "# Model hs05\n",
    "  Variables\n",
    "  \n",
    "    x[1] = 0, >= -1.5, <= 4\n",
    "    x[2] = 0, >= -3, <=3\n",
    "    obj\n",
    "  End Variables\n",
    "\n",
    "  Equations\n",
    "  \n",
    "    ! best known objective = -(sqrt(3)/2 + 3.14159/3) = -1.91322207\n",
    "    obj = sin(x[1]+x[2]) + (x[1]-x[2])^2 - 1.5*x[1] + 2.5*x[2] + 1\n",
    "  End Equations\n",
    "End Model"
   ]
  },
  {
   "cell_type": "code",
   "execution_count": 6,
   "id": "531f8575",
   "metadata": {},
   "outputs": [
    {
     "data": {
      "text/plain": [
       "A JuMP Model\n",
       "Feasibility problem with:\n",
       "Variables: 0\n",
       "Model mode: AUTOMATIC\n",
       "CachingOptimizer state: EMPTY_OPTIMIZER\n",
       "Solver name: Ipopt"
      ]
     },
     "execution_count": 6,
     "metadata": {},
     "output_type": "execute_result"
    }
   ],
   "source": [
    "model = Model(Ipopt.Optimizer)"
   ]
  },
  {
   "cell_type": "code",
   "execution_count": 7,
   "id": "2d409e44",
   "metadata": {},
   "outputs": [
    {
     "name": "stdout",
     "output_type": "stream",
     "text": [
      "This is Ipopt version 3.14.12, running with linear solver MUMPS 5.5.1.\n",
      "\n",
      "Number of nonzeros in equality constraint Jacobian...:        0\n",
      "Number of nonzeros in inequality constraint Jacobian.:        2\n",
      "Number of nonzeros in Lagrangian Hessian.............:        3\n",
      "\n",
      "Total number of variables............................:        2\n",
      "                     variables with only lower bounds:        0\n",
      "                variables with lower and upper bounds:        0\n",
      "                     variables with only upper bounds:        0\n",
      "Total number of equality constraints.................:        0\n",
      "Total number of inequality constraints...............:        2\n",
      "        inequality constraints with only lower bounds:        0\n",
      "   inequality constraints with lower and upper bounds:        2\n",
      "        inequality constraints with only upper bounds:        0\n",
      "\n",
      "iter    objective    inf_pr   inf_du lg(mu)  ||d||  lg(rg) alpha_du alpha_pr  ls\n",
      "   0  1.0000000e+00 0.00e+00 1.75e+00  -1.0 0.00e+00    -  0.00e+00 0.00e+00   0\n",
      "   1 -1.2624158e+00 0.00e+00 1.74e+00  -1.0 2.42e+00    -  5.59e-01 1.00e+00f  1\n",
      "   2 -1.3523894e+00 0.00e+00 6.34e-01  -1.0 2.06e-01    -  5.83e-01 1.00e+00f  1\n",
      "   3 -1.7085215e+00 0.00e+00 3.71e-01  -1.7 4.15e-01   0.0 7.74e-01 1.00e+00f  1\n",
      "   4 -1.9127333e+00 0.00e+00 2.16e-01  -1.7 7.57e-01    -  5.17e-01 5.00e-01f  2\n",
      "   5 -1.9131192e+00 0.00e+00 1.55e-04  -1.7 2.40e-02    -  1.00e+00 1.00e+00f  1\n",
      "   6 -1.9132229e+00 0.00e+00 5.43e-05  -3.8 8.35e-03    -  1.00e+00 1.00e+00f  1\n",
      "   7 -1.9132230e+00 0.00e+00 2.61e-08  -5.7 1.84e-04    -  1.00e+00 1.00e+00f  1\n",
      "   8 -1.9132230e+00 0.00e+00 5.32e-13  -8.6 8.19e-07    -  1.00e+00 1.00e+00f  1\n",
      "\n",
      "Number of Iterations....: 8\n",
      "\n",
      "                                   (scaled)                 (unscaled)\n",
      "Objective...............:  -1.9132229549810367e+00   -1.9132229549810367e+00\n",
      "Dual infeasibility......:   5.3178816640125665e-13    5.3178816640125665e-13\n",
      "Constraint violation....:   0.0000000000000000e+00    0.0000000000000000e+00\n",
      "Variable bound violation:   0.0000000000000000e+00    0.0000000000000000e+00\n",
      "Complementarity.........:   2.5075406755955498e-09    2.5075406755955498e-09\n",
      "Overall NLP error.......:   2.5075406755955498e-09    2.5075406755955498e-09\n",
      "\n",
      "\n",
      "Number of objective function evaluations             = 11\n",
      "Number of objective gradient evaluations             = 9\n",
      "Number of equality constraint evaluations            = 0\n",
      "Number of inequality constraint evaluations          = 11\n",
      "Number of equality constraint Jacobian evaluations   = 0\n",
      "Number of inequality constraint Jacobian evaluations = 9\n",
      "Number of Lagrangian Hessian evaluations             = 8\n",
      "Total seconds in IPOPT                               = 0.007\n",
      "\n",
      "EXIT: Optimal Solution Found.\n"
     ]
    }
   ],
   "source": [
    "x0 = [0.0; 0.0]\n",
    "lb = [-1.5; -3.0]\n",
    "ub = [4.0; 3.0]\n",
    "\n",
    "@variable(model, x[i=1:2], start = x0[i])\n",
    "@NLconstraint(model, [i=1:2], lb[i] <= x[i] <= ub[i])\n",
    "\n",
    "@NLobjective(model, Min, sin(x[1] + x[2]) + (x[1]-x[2])^2 - 1.5*x[1] + 2.5*x[2] + 1 )\n",
    "\n",
    "optimize!(model)"
   ]
  },
  {
   "cell_type": "code",
   "execution_count": 8,
   "id": "e5f85aea",
   "metadata": {},
   "outputs": [
    {
     "name": "stdout",
     "output_type": "stream",
     "text": [
      "Objective value: -1.9132229549810367\n",
      "x[1] = -0.5471975501433192\n",
      "x[2] = -1.5471975503699011\n"
     ]
    }
   ],
   "source": [
    "# Check check results\n",
    "println(\"Objective value: \", objective_value(model))\n",
    "for i = 1:length(x)\n",
    "    println(\"x[$i] = \", value(x[i]))\n",
    "end"
   ]
  },
  {
   "cell_type": "code",
   "execution_count": null,
   "id": "2218b25d",
   "metadata": {},
   "outputs": [],
   "source": []
  }
 ],
 "metadata": {
  "kernelspec": {
   "display_name": "Julia 1.9.0",
   "language": "julia",
   "name": "julia-1.9"
  },
  "language_info": {
   "file_extension": ".jl",
   "mimetype": "application/julia",
   "name": "julia",
   "version": "1.9.0"
  }
 },
 "nbformat": 4,
 "nbformat_minor": 5
}
