{
 "cells": [
  {
   "cell_type": "code",
   "execution_count": 1,
   "id": "970cba10",
   "metadata": {},
   "outputs": [],
   "source": [
    "using JuMP, Ipopt"
   ]
  },
  {
   "cell_type": "markdown",
   "id": "bf883271",
   "metadata": {},
   "source": [
    "# Model hs71\n",
    "  Variables\n",
    "  \n",
    "    x1 = 1, >=1, <=5\n",
    "    x2 = 5, >=1, <=5\n",
    "    x3 = 5, >=1, <=5\n",
    "    x4 = 1, >=1, <=5\n",
    "    obj = 20\n",
    "  End Variables\n",
    "\n",
    "  Equations\n",
    "  \n",
    "    x1*x2*x3*x4 > 25\n",
    "    x1^2 + x2^2 + x3^2 + x4^2 = 40\n",
    "\n",
    "    ! best known objective = 17.0140173\n",
    "    obj = x1*x4*(x1+x2+x3) + x3\n",
    "  End Equations\n",
    "End Model"
   ]
  },
  {
   "cell_type": "code",
   "execution_count": 2,
   "id": "531f8575",
   "metadata": {},
   "outputs": [
    {
     "data": {
      "text/plain": [
       "A JuMP Model\n",
       "Feasibility problem with:\n",
       "Variables: 0\n",
       "Model mode: AUTOMATIC\n",
       "CachingOptimizer state: EMPTY_OPTIMIZER\n",
       "Solver name: Ipopt"
      ]
     },
     "execution_count": 2,
     "metadata": {},
     "output_type": "execute_result"
    }
   ],
   "source": [
    "model = Model(Ipopt.Optimizer)"
   ]
  },
  {
   "cell_type": "code",
   "execution_count": 3,
   "id": "2d409e44",
   "metadata": {},
   "outputs": [
    {
     "name": "stdout",
     "output_type": "stream",
     "text": [
      "\n",
      "******************************************************************************\n",
      "This program contains Ipopt, a library for large-scale nonlinear optimization.\n",
      " Ipopt is released as open source code under the Eclipse Public License (EPL).\n",
      "         For more information visit https://github.com/coin-or/Ipopt\n",
      "******************************************************************************\n",
      "\n",
      "This is Ipopt version 3.14.12, running with linear solver MUMPS 5.5.1.\n",
      "\n",
      "Number of nonzeros in equality constraint Jacobian...:        4\n",
      "Number of nonzeros in inequality constraint Jacobian.:        8\n",
      "Number of nonzeros in Lagrangian Hessian.............:       24\n",
      "\n",
      "Total number of variables............................:        4\n",
      "                     variables with only lower bounds:        0\n",
      "                variables with lower and upper bounds:        0\n",
      "                     variables with only upper bounds:        0\n",
      "Total number of equality constraints.................:        1\n",
      "Total number of inequality constraints...............:        5\n",
      "        inequality constraints with only lower bounds:        1\n",
      "   inequality constraints with lower and upper bounds:        4\n",
      "        inequality constraints with only upper bounds:        0\n",
      "\n",
      "iter    objective    inf_pr   inf_du lg(mu)  ||d||  lg(rg) alpha_du alpha_pr  ls\n",
      "   0  1.6000000e+01 1.20e+01 5.32e-01  -1.0 0.00e+00    -  0.00e+00 0.00e+00   0\n",
      "   1  1.6894301e+01 8.15e-01 1.19e+01  -1.0 6.45e-01    -  7.27e-02 1.00e+00f  1\n",
      "   2  1.7297504e+01 3.94e-02 5.10e-01  -1.0 1.70e-01    -  1.00e+00 1.00e+00h  1\n",
      "   3  1.6852304e+01 2.74e-01 5.61e-02  -1.7 2.81e-01    -  8.14e-01 1.00e+00h  1\n",
      "   4  1.7050983e+01 4.79e-03 2.75e-03  -1.7 6.09e-02    -  1.00e+00 1.00e+00h  1\n",
      "   5  1.7012030e+01 7.07e-03 6.18e-03  -3.8 3.66e-02    -  9.45e-01 9.98e-01h  1\n",
      "   6  1.7014272e+01 1.71e-05 9.59e-06  -3.8 3.29e-03    -  1.00e+00 1.00e+00h  1\n",
      "   7  1.7014021e+01 1.22e-07 1.81e-07  -5.7 2.69e-04    -  1.00e+00 1.00e+00h  1\n",
      "   8  1.7014017e+01 1.77e-11 2.52e-11  -8.6 3.32e-06    -  1.00e+00 1.00e+00h  1\n",
      "\n",
      "Number of Iterations....: 8\n",
      "\n",
      "                                   (scaled)                 (unscaled)\n",
      "Objective...............:   1.7014017277729661e+01    1.7014017277729661e+01\n",
      "Dual infeasibility......:   2.5162094630104548e-11    2.5162094630104548e-11\n",
      "Constraint violation....:   1.7720935829856899e-11    1.7720935829856899e-11\n",
      "Variable bound violation:   0.0000000000000000e+00    0.0000000000000000e+00\n",
      "Complementarity.........:   2.5277014600547624e-09    2.5277014600547624e-09\n",
      "Overall NLP error.......:   2.5277014600547624e-09    2.5277014600547624e-09\n",
      "\n",
      "\n",
      "Number of objective function evaluations             = 9\n",
      "Number of objective gradient evaluations             = 9\n",
      "Number of equality constraint evaluations            = 9\n",
      "Number of inequality constraint evaluations          = 9\n",
      "Number of equality constraint Jacobian evaluations   = 9\n",
      "Number of inequality constraint Jacobian evaluations = 9\n",
      "Number of Lagrangian Hessian evaluations             = 8\n",
      "Total seconds in IPOPT                               = 0.974\n",
      "\n",
      "EXIT: Optimal Solution Found.\n"
     ]
    }
   ],
   "source": [
    "x0 = [1.0; 5.0; 5.0; 1.0]\n",
    "\n",
    "@variable(model, x[i=1:4], start = x0[i])\n",
    "@NLconstraint(model, [i=1:4], 1.0 <= x[i] <= 5)\n",
    "@NLconstraint(model, x[1] * x[2] * x[3] * x[4] >= 25)\n",
    "@NLconstraint(model, x[1]^2 + x[2]^2 + x[3]^2 + x[4]^2 == 40)\n",
    "\n",
    "@NLobjective(model, Min, x[1]*x[4]*(x[1]+x[2]+x[3]) + x[3])\n",
    "\n",
    "optimize!(model)"
   ]
  },
  {
   "cell_type": "code",
   "execution_count": 4,
   "id": "e5f85aea",
   "metadata": {},
   "outputs": [
    {
     "name": "stdout",
     "output_type": "stream",
     "text": [
      "Objective value: 17.01401727772966\n",
      "x[1] = 0.99999999232353\n",
      "x[2] = 4.742999634302079\n",
      "x[3] = 3.8211499860999605\n",
      "x[4] = 1.3794083036248825\n"
     ]
    }
   ],
   "source": [
    "# Check check results\n",
    "println(\"Objective value: \", objective_value(model))\n",
    "for i = 1:length(x)\n",
    "    println(\"x[$i] = \", value(x[i]))\n",
    "end"
   ]
  },
  {
   "cell_type": "code",
   "execution_count": null,
   "id": "76585fd3",
   "metadata": {},
   "outputs": [],
   "source": []
  }
 ],
 "metadata": {
  "kernelspec": {
   "display_name": "Julia 1.9.0",
   "language": "julia",
   "name": "julia-1.9"
  },
  "language_info": {
   "file_extension": ".jl",
   "mimetype": "application/julia",
   "name": "julia",
   "version": "1.9.0"
  }
 },
 "nbformat": 4,
 "nbformat_minor": 5
}
