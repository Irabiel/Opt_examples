{
 "cells": [
  {
   "cell_type": "code",
   "execution_count": 1,
   "id": "970cba10",
   "metadata": {},
   "outputs": [],
   "source": [
    "using JuMP, Ipopt"
   ]
  },
  {
   "cell_type": "markdown",
   "id": "1a4d6f5b",
   "metadata": {},
   "source": [
    "# Model hs07\n",
    "  Variables\n",
    "  \n",
    "    x[1] = 2\n",
    "    x[2] = 2\n",
    "    obj\n",
    "  End Variables\n",
    "\n",
    "  Equations\n",
    "  \n",
    "    (1+x[1]^2)^2 + x[2]^2 = 4\n",
    "\n",
    "    ! best known objective = -sqrt(3)\n",
    "    obj = log(1+x[1]^2) - x[2]\n",
    "  End Equations\n",
    "End Model\n"
   ]
  },
  {
   "cell_type": "code",
   "execution_count": 2,
   "id": "531f8575",
   "metadata": {},
   "outputs": [
    {
     "data": {
      "text/plain": [
       "A JuMP Model\n",
       "Feasibility problem with:\n",
       "Variables: 0\n",
       "Model mode: AUTOMATIC\n",
       "CachingOptimizer state: EMPTY_OPTIMIZER\n",
       "Solver name: Ipopt"
      ]
     },
     "execution_count": 2,
     "metadata": {},
     "output_type": "execute_result"
    }
   ],
   "source": [
    "model = Model(Ipopt.Optimizer)"
   ]
  },
  {
   "cell_type": "code",
   "execution_count": 3,
   "id": "2d409e44",
   "metadata": {},
   "outputs": [
    {
     "name": "stdout",
     "output_type": "stream",
     "text": [
      "\n",
      "******************************************************************************\n",
      "This program contains Ipopt, a library for large-scale nonlinear optimization.\n",
      " Ipopt is released as open source code under the Eclipse Public License (EPL).\n",
      "         For more information visit https://github.com/coin-or/Ipopt\n",
      "******************************************************************************\n",
      "\n",
      "This is Ipopt version 3.14.12, running with linear solver MUMPS 5.5.1.\n",
      "\n",
      "Number of nonzeros in equality constraint Jacobian...:        2\n",
      "Number of nonzeros in inequality constraint Jacobian.:        0\n",
      "Number of nonzeros in Lagrangian Hessian.............:        3\n",
      "\n",
      "Total number of variables............................:        2\n",
      "                     variables with only lower bounds:        0\n",
      "                variables with lower and upper bounds:        0\n",
      "                     variables with only upper bounds:        0\n",
      "Total number of equality constraints.................:        1\n",
      "Total number of inequality constraints...............:        0\n",
      "        inequality constraints with only lower bounds:        0\n",
      "   inequality constraints with lower and upper bounds:        0\n",
      "        inequality constraints with only upper bounds:        0\n",
      "\n",
      "iter    objective    inf_pr   inf_du lg(mu)  ||d||  lg(rg) alpha_du alpha_pr  ls\n",
      "   0 -3.9056209e-01 2.50e+01 1.07e+00  -1.0 0.00e+00    -  0.00e+00 0.00e+00   0\n",
      "   1 -2.1768249e+00 1.25e+01 1.14e+00  -1.0 1.13e+00   0.0 1.00e+00 1.00e+00h  1\n",
      "   2 -8.5207002e+00 2.97e+02 3.83e+01  -1.0 7.98e+00  -0.5 1.00e+00 1.00e+00f  1\n",
      "   3 -1.7836589e+02 1.55e+05 9.46e+04  -1.0 1.73e+02  -0.1 1.00e+00 1.00e+00f  1\n",
      "   4 -3.2923432e+02 1.24e+05 2.23e+04  -1.0 1.50e+02   1.3 1.00e+00 1.00e+00h  1\n",
      "   5 -3.6975051e+02 1.45e+05 6.08e+04  -1.0 8.01e+01   2.6 1.00e+00 5.00e-01h  2\n",
      "   6 -3.7837529e+02 1.57e+05 5.08e+05  -1.0 7.36e+01   3.9 1.00e+00 2.50e-01h  3\n",
      "   7 -4.0211092e+02 1.99e+05 7.60e+06  -1.0 4.86e+01   4.4 1.00e+00 5.00e-01h  2\n",
      "   8 -4.6050582e+02 2.37e+05 2.94e+07  -1.0 5.82e+01   4.8 1.00e+00 1.00e+00h  1\n",
      "   9 -4.8328341e+02 2.43e+05 1.91e+07  -1.0 1.41e+03   5.2 1.00e+00 1.56e-02h  7\n",
      "iter    objective    inf_pr   inf_du lg(mu)  ||d||  lg(rg) alpha_du alpha_pr  ls\n",
      "  10 -4.8939862e+02 2.45e+05 2.77e+07  -1.0 1.18e+02   6.5 1.00e+00 1.25e-01h  4\n",
      "  11 -4.9405127e+02 2.48e+05 6.51e+07  -1.0 3.64e+02   7.0 1.00e+00 3.12e-02h  6\n",
      "  12 -4.9160634e+02 2.45e+05 9.98e+06  -1.0 2.85e+02   7.4 1.00e+00 3.12e-02h  6\n",
      "  13 -2.4468913e+02 6.12e+04 2.49e+06  -1.0 2.47e+02    -  1.00e+00 1.00e+00h  1\n",
      "  14 -1.2140600e+02 1.53e+04 6.24e+05  -1.0 1.24e+02    -  1.00e+00 1.00e+00h  1\n",
      "  15 -5.9937702e+01 3.83e+03 1.56e+05  -1.0 6.18e+01    -  1.00e+00 1.00e+00h  1\n",
      "  16 -2.9375686e+01 9.59e+02 3.90e+04  -1.0 3.09e+01    -  1.00e+00 1.00e+00h  1\n",
      "  17 -1.4268851e+01 2.40e+02 9.74e+03  -1.0 1.54e+01    -  1.00e+00 1.00e+00h  1\n",
      "  18 -6.8987306e+00 5.98e+01 2.44e+03  -1.0 7.66e+00    -  1.00e+00 1.00e+00h  1\n",
      "  19 -3.4184548e+00 1.45e+01 6.08e+02  -1.0 3.73e+00    -  1.00e+00 1.00e+00h  1\n",
      "iter    objective    inf_pr   inf_du lg(mu)  ||d||  lg(rg) alpha_du alpha_pr  ls\n",
      "  20 -1.9169398e+00 3.07e+00 1.49e+02  -1.0 1.69e+00    -  1.00e+00 1.00e+00h  1\n",
      "  21 -1.4214279e+00 4.03e-01 2.87e+01  -1.0 5.92e-01    -  1.00e+00 1.00e+00h  1\n",
      "  22 -1.3702699e+00 1.41e-02 2.59e+00  -1.0 8.60e-02    -  1.00e+00 1.00e+00h  1\n",
      "  23 -1.6726522e+00 1.70e-01 7.63e-01  -1.0 2.19e-01    -  1.00e+00 1.00e+00f  1\n",
      "  24 -1.7842296e+00 1.88e-01 8.54e-02  -1.7 2.91e-01    -  1.00e+00 1.00e+00h  1\n",
      "  25 -1.7332622e+00 4.20e-03 8.19e-04  -2.5 5.17e-02    -  1.00e+00 1.00e+00h  1\n",
      "  26 -1.7320513e+00 1.60e-06 1.00e-06  -3.8 1.21e-03    -  1.00e+00 1.00e+00h  1\n",
      "  27 -1.7320508e+00 2.51e-13 3.38e-13  -8.6 4.62e-07    -  1.00e+00 1.00e+00h  1\n",
      "\n",
      "Number of Iterations....: 27\n",
      "\n",
      "                                   (scaled)                 (unscaled)\n",
      "Objective...............:  -1.7320508075689498e+00   -1.7320508075689498e+00\n",
      "Dual infeasibility......:   3.3817393330082268e-13    3.3817393330082268e-13\n",
      "Constraint violation....:   2.5135449277513544e-13    2.5135449277513544e-13\n",
      "Variable bound violation:   0.0000000000000000e+00    0.0000000000000000e+00\n",
      "Complementarity.........:   0.0000000000000000e+00    0.0000000000000000e+00\n",
      "Overall NLP error.......:   3.3817393330082268e-13    3.3817393330082268e-13\n",
      "\n",
      "\n",
      "Number of objective function evaluations             = 28\n",
      "Number of objective gradient evaluations             = 28\n",
      "Number of equality constraint evaluations            = 58\n",
      "Number of inequality constraint evaluations          = 0\n",
      "Number of equality constraint Jacobian evaluations   = 28\n",
      "Number of inequality constraint Jacobian evaluations = 0\n",
      "Number of Lagrangian Hessian evaluations             = 27\n",
      "Total seconds in IPOPT                               = 0.016\n",
      "\n",
      "EXIT: Optimal Solution Found.\n"
     ]
    }
   ],
   "source": [
    "x0 = [2.0; 2.0]\n",
    "\n",
    "@variable(model, x[i=1:2], start = x0[i])\n",
    "@NLconstraint(model, (1+x[1]^2)^2 + x[2]^2 == 4)\n",
    "\n",
    "@NLobjective(model, Min, log(1+x[1]^2) - x[2])\n",
    "\n",
    "optimize!(model)"
   ]
  },
  {
   "cell_type": "code",
   "execution_count": 4,
   "id": "e5f85aea",
   "metadata": {},
   "outputs": [
    {
     "name": "stdout",
     "output_type": "stream",
     "text": [
      "Objective value: -1.7320508075689498\n",
      "x[1] = -6.306379197385572e-14\n",
      "x[2] = 1.7320508075689498\n"
     ]
    }
   ],
   "source": [
    "# Check check results\n",
    "println(\"Objective value: \", objective_value(model))\n",
    "for i = 1:length(x)\n",
    "    println(\"x[$i] = \", value(x[i]))\n",
    "end"
   ]
  },
  {
   "cell_type": "code",
   "execution_count": null,
   "id": "76585fd3",
   "metadata": {},
   "outputs": [],
   "source": []
  }
 ],
 "metadata": {
  "kernelspec": {
   "display_name": "Julia 1.9.0",
   "language": "julia",
   "name": "julia-1.9"
  },
  "language_info": {
   "file_extension": ".jl",
   "mimetype": "application/julia",
   "name": "julia",
   "version": "1.9.0"
  }
 },
 "nbformat": 4,
 "nbformat_minor": 5
}
