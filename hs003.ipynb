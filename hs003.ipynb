{
 "cells": [
  {
   "cell_type": "code",
   "execution_count": 1,
   "id": "b2b30e59",
   "metadata": {},
   "outputs": [],
   "source": [
    "using JuMP, Ipopt"
   ]
  },
  {
   "cell_type": "markdown",
   "id": "508639f3",
   "metadata": {},
   "source": [
    "# Model hs03\n",
    "  Variables\n",
    "  \n",
    "    x[1] = 10\n",
    "    x[2] = 1, >0\n",
    "    obj\n",
    "  End Variables\n",
    "\n",
    "  Equations\n",
    "  \n",
    "    ! best known objective = 0\n",
    "    obj = x[2] + 0.00001*(x[2]-x[1])^2\n",
    "  End Equations\n",
    "End Model"
   ]
  },
  {
   "cell_type": "code",
   "execution_count": 2,
   "id": "e8887603",
   "metadata": {},
   "outputs": [
    {
     "data": {
      "text/plain": [
       "A JuMP Model\n",
       "Feasibility problem with:\n",
       "Variables: 0\n",
       "Model mode: AUTOMATIC\n",
       "CachingOptimizer state: EMPTY_OPTIMIZER\n",
       "Solver name: Ipopt"
      ]
     },
     "execution_count": 2,
     "metadata": {},
     "output_type": "execute_result"
    }
   ],
   "source": [
    "model = Model(Ipopt.Optimizer)"
   ]
  },
  {
   "cell_type": "code",
   "execution_count": 3,
   "id": "007c9341",
   "metadata": {},
   "outputs": [
    {
     "name": "stdout",
     "output_type": "stream",
     "text": [
      "\n",
      "******************************************************************************\n",
      "This program contains Ipopt, a library for large-scale nonlinear optimization.\n",
      " Ipopt is released as open source code under the Eclipse Public License (EPL).\n",
      "         For more information visit https://github.com/coin-or/Ipopt\n",
      "******************************************************************************\n",
      "\n",
      "This is Ipopt version 3.14.12, running with linear solver MUMPS 5.5.1.\n",
      "\n",
      "Number of nonzeros in equality constraint Jacobian...:        0\n",
      "Number of nonzeros in inequality constraint Jacobian.:        1\n",
      "Number of nonzeros in Lagrangian Hessian.............:        3\n",
      "\n",
      "Total number of variables............................:        2\n",
      "                     variables with only lower bounds:        0\n",
      "                variables with lower and upper bounds:        0\n",
      "                     variables with only upper bounds:        0\n",
      "Total number of equality constraints.................:        0\n",
      "Total number of inequality constraints...............:        1\n",
      "        inequality constraints with only lower bounds:        1\n",
      "   inequality constraints with lower and upper bounds:        0\n",
      "        inequality constraints with only upper bounds:        0\n",
      "\n",
      "iter    objective    inf_pr   inf_du lg(mu)  ||d||  lg(rg) alpha_du alpha_pr  ls\n",
      "   0  1.0008100e+00 0.00e+00 1.80e-04  -1.0 0.00e+00    -  0.00e+00 0.00e+00   0\n",
      "   1  1.9999790e-02 0.00e+00 2.00e-07  -1.7 9.98e+00    -  1.00e+00 1.00e+00f  1\n",
      "   2  1.5041806e-04 0.00e+00 1.50e-09  -3.8 1.98e-02    -  1.00e+00 1.00e+00f  1\n",
      "   3  1.8349147e-06 0.00e+00 1.84e-11  -5.7 1.49e-04    -  1.00e+00 1.00e+00f  1\n",
      "   4 -7.4940964e-09 0.00e+00 2.51e-14  -8.6 1.84e-06    -  1.00e+00 1.00e+00f  1\n",
      "\n",
      "Number of Iterations....: 4\n",
      "\n",
      "                                   (scaled)                 (unscaled)\n",
      "Objective...............:  -7.4940964063749669e-09   -7.4940964063749669e-09\n",
      "Dual infeasibility......:   2.5091040356528538e-14    2.5091040356528538e-14\n",
      "Constraint violation....:   0.0000000000000000e+00    0.0000000000000000e+00\n",
      "Variable bound violation:   0.0000000000000000e+00    0.0000000000000000e+00\n",
      "Complementarity.........:   2.5059035936250962e-09    2.5059035936250962e-09\n",
      "Overall NLP error.......:   2.5059035936250962e-09    2.5059035936250962e-09\n",
      "\n",
      "\n",
      "Number of objective function evaluations             = 5\n",
      "Number of objective gradient evaluations             = 5\n",
      "Number of equality constraint evaluations            = 0\n",
      "Number of inequality constraint evaluations          = 5\n",
      "Number of equality constraint Jacobian evaluations   = 0\n",
      "Number of inequality constraint Jacobian evaluations = 5\n",
      "Number of Lagrangian Hessian evaluations             = 4\n",
      "Total seconds in IPOPT                               = 0.003\n",
      "\n",
      "EXIT: Optimal Solution Found.\n"
     ]
    }
   ],
   "source": [
    "x0 = [10.0; 1.0]\n",
    "@variable(model, x[i=1:2], start = x0[i])\n",
    "@NLconstraint(model, x[2] >= 0.0)\n",
    "@NLobjective(model, Min, x[2] +  0.00001*(x[2] - x[1])^2)\n",
    "optimize!(model)"
   ]
  },
  {
   "cell_type": "code",
   "execution_count": 4,
   "id": "2d6ea34d",
   "metadata": {},
   "outputs": [
    {
     "name": "stdout",
     "output_type": "stream",
     "text": [
      "Objective value: -7.494096406374967e-9\n",
      "x[1] = -7.494096406374967e-9\n",
      "x[2] = -7.494096406374967e-9\n"
     ]
    }
   ],
   "source": [
    "# Check check results\n",
    "println(\"Objective value: \", objective_value(model))\n",
    "for i = 1:length(x)\n",
    "    println(\"x[$i] = \", value(x[i]))\n",
    "end"
   ]
  },
  {
   "cell_type": "code",
   "execution_count": null,
   "id": "6bd1b060",
   "metadata": {},
   "outputs": [],
   "source": []
  }
 ],
 "metadata": {
  "kernelspec": {
   "display_name": "Julia 1.9.0",
   "language": "julia",
   "name": "julia-1.9"
  },
  "language_info": {
   "file_extension": ".jl",
   "mimetype": "application/julia",
   "name": "julia",
   "version": "1.9.0"
  }
 },
 "nbformat": 4,
 "nbformat_minor": 5
}
