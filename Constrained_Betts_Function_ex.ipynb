{
 "cells": [
  {
   "cell_type": "code",
   "execution_count": 1,
   "id": "55bc5ed0",
   "metadata": {},
   "outputs": [],
   "source": [
    "using JuMP, Ipopt"
   ]
  },
  {
   "cell_type": "code",
   "execution_count": 2,
   "id": "3ea30e0e",
   "metadata": {},
   "outputs": [
    {
     "data": {
      "text/plain": [
       "A JuMP Model\n",
       "Feasibility problem with:\n",
       "Variables: 0\n",
       "Model mode: AUTOMATIC\n",
       "CachingOptimizer state: EMPTY_OPTIMIZER\n",
       "Solver name: Ipopt"
      ]
     },
     "execution_count": 2,
     "metadata": {},
     "output_type": "execute_result"
    }
   ],
   "source": [
    "model = Model(Ipopt.Optimizer)"
   ]
  },
  {
   "cell_type": "code",
   "execution_count": 3,
   "id": "dad664f4",
   "metadata": {},
   "outputs": [
    {
     "name": "stdout",
     "output_type": "stream",
     "text": [
      "\n",
      "******************************************************************************\n",
      "This program contains Ipopt, a library for large-scale nonlinear optimization.\n",
      " Ipopt is released as open source code under the Eclipse Public License (EPL).\n",
      "         For more information visit https://github.com/coin-or/Ipopt\n",
      "******************************************************************************\n",
      "\n",
      "This is Ipopt version 3.14.12, running with linear solver MUMPS 5.5.1.\n",
      "\n",
      "Number of nonzeros in equality constraint Jacobian...:        0\n",
      "Number of nonzeros in inequality constraint Jacobian.:        4\n",
      "Number of nonzeros in Lagrangian Hessian.............:        2\n",
      "\n",
      "Total number of variables............................:        2\n",
      "                     variables with only lower bounds:        0\n",
      "                variables with lower and upper bounds:        0\n",
      "                     variables with only upper bounds:        0\n",
      "Total number of equality constraints.................:        0\n",
      "Total number of inequality constraints...............:        3\n",
      "        inequality constraints with only lower bounds:        1\n",
      "   inequality constraints with lower and upper bounds:        2\n",
      "        inequality constraints with only upper bounds:        0\n",
      "\n",
      "iter    objective    inf_pr   inf_du lg(mu)  ||d||  lg(rg) alpha_du alpha_pr  ls\n",
      "   0 -9.8990000e+01 1.90e+01 9.82e-01  -1.0 0.00e+00    -  0.00e+00 0.00e+00   0\n",
      "   1 -9.9143366e+01 1.85e+01 7.16e+00  -1.0 3.16e+00    -  1.82e-01 2.51e-02h  1\n",
      "   2 -9.9959292e+01 0.00e+00 6.41e+00  -1.0 1.01e+01    -  1.37e-01 1.00e+00f  1\n",
      "   3 -9.9958998e+01 0.00e+00 1.22e-01  -1.0 1.50e-01    -  9.83e-01 1.00e+00f  1\n",
      "   4 -9.9948640e+01 0.00e+00 6.40e-04  -1.7 2.41e+00    -  9.56e-01 1.00e+00f  1\n",
      "   5 -9.9955411e+01 0.00e+00 2.83e-08  -2.5 1.55e+00    -  1.00e+00 1.00e+00f  1\n",
      "   6 -9.9959826e+01 0.00e+00 1.50e-09  -3.8 1.07e+00    -  1.00e+00 1.00e+00f  1\n",
      "   7 -9.9959999e+01 0.00e+00 1.84e-11  -5.7 4.33e-02    -  1.00e+00 1.00e+00f  1\n",
      "   8 -9.9960000e+01 0.00e+00 2.51e-14  -8.6 1.69e-04    -  1.00e+00 1.00e+00f  1\n",
      "\n",
      "Number of Iterations....: 8\n",
      "\n",
      "                                   (scaled)                 (unscaled)\n",
      "Objective...............:  -9.9959999998345154e+01   -9.9959999998345154e+01\n",
      "Dual infeasibility......:   2.5059035587193448e-14    2.5059035587193448e-14\n",
      "Constraint violation....:   0.0000000000000000e+00    0.0000000000000000e+00\n",
      "Variable bound violation:   0.0000000000000000e+00    0.0000000000000000e+00\n",
      "Complementarity.........:   2.5633715465647777e-09    2.5633715465647777e-09\n",
      "Overall NLP error.......:   2.5633715465647777e-09    2.5633715465647777e-09\n",
      "\n",
      "\n",
      "Number of objective function evaluations             = 9\n",
      "Number of objective gradient evaluations             = 9\n",
      "Number of equality constraint evaluations            = 0\n",
      "Number of inequality constraint evaluations          = 9\n",
      "Number of equality constraint Jacobian evaluations   = 0\n",
      "Number of inequality constraint Jacobian evaluations = 9\n",
      "Number of Lagrangian Hessian evaluations             = 8\n",
      "Total seconds in IPOPT                               = 0.006\n",
      "\n",
      "EXIT: Optimal Solution Found.\n"
     ]
    }
   ],
   "source": [
    "x0 = [-1.0; -1.0]\n",
    "ub = [50, 50]\n",
    "lb = [2, -50] \n",
    "\n",
    "@variable(model, x[i=1:2], start = x0[i])\n",
    "@NLobjective(model, Min, 0.01*x[1]^2 + x[2]^2 - 100)\n",
    "\n",
    "# Element-wise constraints\n",
    "@NLconstraint(model, [i = 1:length(x)], lb[i] <= x[i] <= ub[i])\n",
    "\n",
    "@NLconstraint(model, 10*x[1] - x[2] >= 10)\n",
    "optimize!(model)"
   ]
  },
  {
   "cell_type": "code",
   "execution_count": 4,
   "id": "eb98626e",
   "metadata": {},
   "outputs": [
    {
     "name": "stdout",
     "output_type": "stream",
     "text": [
      "Objective value: -99.95999999834515\n",
      "x[1] = 2.0000000413712513\n",
      "x[2] = -1.2815616757635936e-10\n"
     ]
    }
   ],
   "source": [
    "# Check check results\n",
    "println(\"Objective value: \", objective_value(model))\n",
    "for i = 1:length(x)\n",
    "    println(\"x[$i] = \", value(x[i]))\n",
    "end"
   ]
  },
  {
   "cell_type": "raw",
   "id": "c59eef43",
   "metadata": {},
   "source": [
    "x0 = [-1.0; -1.0]\n",
    "b = [50, 50]\n",
    "c = [2, -50] \n",
    "\n",
    "@variable(model, x[i=1:2], start = x0[i])\n",
    "@NLobjective(model, Min, 0.01*x[1]^2 + x[2]^2 - 100)\n",
    "\n",
    "# Element-wise constraints\n",
    "for i = 1:length(x)\n",
    "    @NLconstraint(model, x[i] <= b[i])\n",
    "    @NLconstraint(model, c[i] <= x[i])\n",
    "end\n",
    "\n",
    "@NLconstraint(model, 10*x[1] - x[2] >= 10)\n",
    "optimize!(model)"
   ]
  },
  {
   "cell_type": "code",
   "execution_count": null,
   "id": "55af7d32",
   "metadata": {},
   "outputs": [],
   "source": []
  }
 ],
 "metadata": {
  "kernelspec": {
   "display_name": "Julia 1.9.0",
   "language": "julia",
   "name": "julia-1.9"
  },
  "language_info": {
   "file_extension": ".jl",
   "mimetype": "application/julia",
   "name": "julia",
   "version": "1.9.0"
  }
 },
 "nbformat": 4,
 "nbformat_minor": 5
}
