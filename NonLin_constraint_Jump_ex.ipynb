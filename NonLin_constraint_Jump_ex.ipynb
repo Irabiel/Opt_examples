{
 "cells": [
  {
   "cell_type": "code",
   "execution_count": 5,
   "id": "b2b30e59",
   "metadata": {},
   "outputs": [],
   "source": [
    "using JuMP, Ipopt"
   ]
  },
  {
   "cell_type": "code",
   "execution_count": 6,
   "id": "e8887603",
   "metadata": {},
   "outputs": [
    {
     "data": {
      "text/plain": [
       "A JuMP Model\n",
       "Feasibility problem with:\n",
       "Variables: 0\n",
       "Model mode: AUTOMATIC\n",
       "CachingOptimizer state: EMPTY_OPTIMIZER\n",
       "Solver name: Ipopt"
      ]
     },
     "execution_count": 6,
     "metadata": {},
     "output_type": "execute_result"
    }
   ],
   "source": [
    "model = Model(Ipopt.Optimizer)"
   ]
  },
  {
   "cell_type": "code",
   "execution_count": 7,
   "id": "007c9341",
   "metadata": {},
   "outputs": [
    {
     "name": "stdout",
     "output_type": "stream",
     "text": [
      "This is Ipopt version 3.14.12, running with linear solver MUMPS 5.5.1.\n",
      "\n",
      "Number of nonzeros in equality constraint Jacobian...:        0\n",
      "Number of nonzeros in inequality constraint Jacobian.:        1\n",
      "Number of nonzeros in Lagrangian Hessian.............:        2\n",
      "\n",
      "Total number of variables............................:        1\n",
      "                     variables with only lower bounds:        0\n",
      "                variables with lower and upper bounds:        0\n",
      "                     variables with only upper bounds:        0\n",
      "Total number of equality constraints.................:        0\n",
      "Total number of inequality constraints...............:        1\n",
      "        inequality constraints with only lower bounds:        0\n",
      "   inequality constraints with lower and upper bounds:        1\n",
      "        inequality constraints with only upper bounds:        0\n",
      "\n",
      "iter    objective    inf_pr   inf_du lg(mu)  ||d||  lg(rg) alpha_du alpha_pr  ls\n",
      "   0  0.0000000e+00 1.00e+00 5.00e-01  -1.0 0.00e+00    -  0.00e+00 0.00e+00   0\n",
      "   1  2.0128144e+00 1.28e-02 1.98e+00  -1.0 1.09e+00    -  1.00e+00 1.00e+00h  1\n",
      "   2  9.5771017e-01 4.23e-02 2.22e+00  -1.0 4.85e-01    -  1.00e+00 1.00e+00h  1\n",
      "   3  8.8704314e-01 1.13e-01 1.51e+00  -1.0 3.89e-01    -  1.00e+00 3.27e-01h  1\n",
      "   4  1.1074960e+00 0.00e+00 1.18e-01  -1.0 1.03e-01    -  1.00e+00 1.00e+00f  1\n",
      "   5  1.0176678e+00 0.00e+00 3.25e-03  -2.5 8.37e-02    -  9.38e-01 1.00e+00h  1\n",
      "   6  1.0002635e+00 0.00e+00 9.89e-06  -3.8 1.65e-02    -  1.00e+00 1.00e+00h  1\n",
      "   7  1.0000019e+00 0.00e+00 7.07e-10  -5.7 2.21e-04    -  1.00e+00 1.00e+00h  1\n",
      "   8  9.9999999e-01 0.00e+00 4.44e-16  -8.6 1.88e-06    -  1.00e+00 1.00e+00h  1\n",
      "\n",
      "Number of Iterations....: 8\n",
      "\n",
      "                                   (scaled)                 (unscaled)\n",
      "Objective...............:   9.9999999250978522e-01    9.9999999250978522e-01\n",
      "Dual infeasibility......:   4.4408920985006262e-16    4.4408920985006262e-16\n",
      "Constraint violation....:   0.0000000000000000e+00    0.0000000000000000e+00\n",
      "Variable bound violation:   0.0000000000000000e+00    0.0000000000000000e+00\n",
      "Complementarity.........:   2.5092994411847303e-09    2.5092994411847303e-09\n",
      "Overall NLP error.......:   2.5092994411847303e-09    2.5092994411847303e-09\n",
      "\n",
      "\n",
      "Number of objective function evaluations             = 9\n",
      "Number of objective gradient evaluations             = 9\n",
      "Number of equality constraint evaluations            = 0\n",
      "Number of inequality constraint evaluations          = 9\n",
      "Number of equality constraint Jacobian evaluations   = 0\n",
      "Number of inequality constraint Jacobian evaluations = 9\n",
      "Number of Lagrangian Hessian evaluations             = 8\n",
      "Total seconds in IPOPT                               = 0.006\n",
      "\n",
      "EXIT: Optimal Solution Found.\n"
     ]
    }
   ],
   "source": [
    "@variable(model, x)\n",
    "@NLobjective(model, MIN_SENSE, x + sin(x^2))\n",
    "@NLconstraint(model, 1<= x + sin(x^2) <= 2)\n",
    "\n",
    "optimize!(model)"
   ]
  },
  {
   "cell_type": "code",
   "execution_count": 8,
   "id": "34153a68",
   "metadata": {},
   "outputs": [
    {
     "name": "stdout",
     "output_type": "stream",
     "text": [
      "value(x) = 0.6223231185440601\n",
      "value(x) + sin(value(x) ^ 2) = 0.9999999925097852\n"
     ]
    },
    {
     "data": {
      "text/plain": [
       "0.9999999925097852"
      ]
     },
     "execution_count": 8,
     "metadata": {},
     "output_type": "execute_result"
    }
   ],
   "source": [
    "@show value(x)\n",
    "@show value(x) + sin(value(x)^2)"
   ]
  },
  {
   "cell_type": "code",
   "execution_count": null,
   "id": "c9978390",
   "metadata": {},
   "outputs": [],
   "source": []
  }
 ],
 "metadata": {
  "kernelspec": {
   "display_name": "Julia 1.9.0",
   "language": "julia",
   "name": "julia-1.9"
  },
  "language_info": {
   "file_extension": ".jl",
   "mimetype": "application/julia",
   "name": "julia",
   "version": "1.9.0"
  }
 },
 "nbformat": 4,
 "nbformat_minor": 5
}
