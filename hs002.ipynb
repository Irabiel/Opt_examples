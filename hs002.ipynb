{
 "cells": [
  {
   "cell_type": "code",
   "execution_count": 6,
   "id": "b2b30e59",
   "metadata": {},
   "outputs": [],
   "source": [
    "using JuMP, Ipopt"
   ]
  },
  {
   "cell_type": "markdown",
   "id": "7c99756f",
   "metadata": {},
   "source": [
    "# Model hs02\n",
    "  Variables\n",
    "  \n",
    "    x[1] = -2\n",
    "    x[2] = 1, < 1.5\n",
    "    obj\n",
    "  End Variables\n",
    "\n",
    "  Equations\n",
    "  \n",
    "    ! best known objective = 0\n",
    "    obj = 100*(x[2] - x[1]^2)^2 + (1-x[1])^2\n",
    "  End Equations\n",
    "End Model"
   ]
  },
  {
   "cell_type": "code",
   "execution_count": 9,
   "id": "e8887603",
   "metadata": {},
   "outputs": [
    {
     "data": {
      "text/plain": [
       "A JuMP Model\n",
       "Feasibility problem with:\n",
       "Variables: 0\n",
       "Model mode: AUTOMATIC\n",
       "CachingOptimizer state: EMPTY_OPTIMIZER\n",
       "Solver name: Ipopt"
      ]
     },
     "execution_count": 9,
     "metadata": {},
     "output_type": "execute_result"
    }
   ],
   "source": [
    "model = Model(Ipopt.Optimizer)"
   ]
  },
  {
   "cell_type": "code",
   "execution_count": 10,
   "id": "007c9341",
   "metadata": {},
   "outputs": [
    {
     "name": "stdout",
     "output_type": "stream",
     "text": [
      "\n",
      "******************************************************************************\n",
      "This program contains Ipopt, a library for large-scale nonlinear optimization.\n",
      " Ipopt is released as open source code under the Eclipse Public License (EPL).\n",
      "         For more information visit https://github.com/coin-or/Ipopt\n",
      "******************************************************************************\n",
      "\n",
      "This is Ipopt version 3.14.12, running with linear solver MUMPS 5.5.1.\n",
      "\n",
      "Number of nonzeros in equality constraint Jacobian...:        0\n",
      "Number of nonzeros in inequality constraint Jacobian.:        1\n",
      "Number of nonzeros in Lagrangian Hessian.............:        3\n",
      "\n",
      "Total number of variables............................:        2\n",
      "                     variables with only lower bounds:        0\n",
      "                variables with lower and upper bounds:        0\n",
      "                     variables with only upper bounds:        0\n",
      "Total number of equality constraints.................:        0\n",
      "Total number of inequality constraints...............:        1\n",
      "        inequality constraints with only lower bounds:        0\n",
      "   inequality constraints with lower and upper bounds:        0\n",
      "        inequality constraints with only upper bounds:        1\n",
      "\n",
      "iter    objective    inf_pr   inf_du lg(mu)  ||d||  lg(rg) alpha_du alpha_pr  ls\n",
      "   0  9.0900000e+02 0.00e+00 1.00e+02  -1.0 0.00e+00    -  0.00e+00 0.00e+00   0\n",
      "   1  4.7863687e+02 0.00e+00 6.92e+01  -1.0 1.54e+00    -  1.00e+00 3.22e-01f  1\n",
      "   2  5.4018993e+01 0.00e+00 1.71e+01  -1.0 4.43e-01    -  1.00e+00 1.00e+00f  1\n",
      "   3  6.9529891e+00 0.00e+00 3.03e+00  -1.0 2.11e-01    -  1.00e+00 1.00e+00f  1\n",
      "   4  4.6651253e+00 0.00e+00 4.41e-01  -1.0 1.30e-01    -  1.00e+00 1.00e+00f  1\n",
      "   5  4.0454803e+00 0.00e+00 1.03e+00  -1.7 1.03e+00    -  5.61e-01 5.00e-01f  2\n",
      "   6  3.1858578e+00 0.00e+00 7.11e-01  -1.7 3.37e-01    -  1.00e+00 1.00e+00f  1\n",
      "   7  2.4867944e+00 0.00e+00 4.50e-01  -1.7 2.23e-01    -  1.00e+00 1.00e+00f  1\n",
      "   8  1.9620144e+00 0.00e+00 3.59e-01  -1.7 2.08e-01    -  1.00e+00 1.00e+00f  1\n",
      "   9  1.4495966e+00 0.00e+00 1.71e-01  -1.7 1.44e-01    -  1.00e+00 1.00e+00f  1\n",
      "iter    objective    inf_pr   inf_du lg(mu)  ||d||  lg(rg) alpha_du alpha_pr  ls\n",
      "  10  1.1600945e+00 0.00e+00 3.96e-01  -2.5 2.18e-01    -  1.00e+00 1.00e+00f  1\n",
      "  11  7.7076742e-01 0.00e+00 6.90e-02  -2.5 9.11e-02    -  1.00e+00 1.00e+00f  1\n",
      "  12  5.9956530e-01 0.00e+00 2.48e-01  -2.5 3.21e-01    -  1.00e+00 5.00e-01f  2\n",
      "  13  3.8713304e-01 0.00e+00 8.25e-02  -2.5 9.96e-02    -  1.00e+00 1.00e+00f  1\n",
      "  14  3.2256425e-01 0.00e+00 3.36e-01  -2.5 1.95e-01    -  1.00e+00 1.00e+00f  1\n",
      "  15  1.4073059e-01 0.00e+00 1.62e-02  -2.5 8.94e-02    -  1.00e+00 1.00e+00f  1\n",
      "  16  9.0339231e-02 0.00e+00 1.88e-01  -3.8 3.14e-01    -  1.00e+00 5.00e-01f  2\n",
      "  17  3.8415998e-02 0.00e+00 2.72e-02  -3.8 1.01e-01    -  1.00e+00 1.00e+00f  1\n",
      "  18  2.3615686e-02 0.00e+00 1.96e-01  -3.8 1.88e-01    -  1.00e+00 1.00e+00f  1\n",
      "  19  3.4342856e-03 0.00e+00 3.35e-03  -3.8 5.02e-02    -  1.00e+00 1.00e+00f  1\n",
      "iter    objective    inf_pr   inf_du lg(mu)  ||d||  lg(rg) alpha_du alpha_pr  ls\n",
      "  20  6.5397531e-04 0.00e+00 3.75e-02  -3.8 9.07e-02    -  1.00e+00 1.00e+00f  1\n",
      "  21  6.5330256e-05 0.00e+00 4.94e-05  -3.8 7.12e-03    -  1.00e+00 1.00e+00f  1\n",
      "  22  4.9865369e-07 0.00e+00 9.85e-04  -5.7 1.53e-02    -  1.00e+00 1.00e+00f  1\n",
      "  23  8.5208838e-09 0.00e+00 8.86e-07  -5.7 5.87e-04    -  1.00e+00 1.00e+00f  1\n",
      "  24  3.5028659e-14 0.00e+00 1.40e-07  -8.6 1.85e-04    -  1.00e+00 1.00e+00f  1\n",
      "  25  1.4576727e-14 0.00e+00 2.51e-14  -8.6 9.31e-08    -  1.00e+00 1.00e+00f  1\n",
      "\n",
      "Number of Iterations....: 25\n",
      "\n",
      "                                   (scaled)                 (unscaled)\n",
      "Objective...............:   6.0584899341927209e-16    1.4576726781667685e-14\n",
      "Dual infeasibility......:   2.5059035597119616e-14    6.0292039646669796e-13\n",
      "Constraint violation....:   0.0000000000000000e+00    0.0000000000000000e+00\n",
      "Variable bound violation:   0.0000000000000000e+00    0.0000000000000000e+00\n",
      "Complementarity.........:   2.5059036864931499e-09    6.0292042697025187e-08\n",
      "Overall NLP error.......:   2.5059036864931499e-09    6.0292042697025187e-08\n",
      "\n",
      "\n",
      "Number of objective function evaluations             = 34\n",
      "Number of objective gradient evaluations             = 26\n",
      "Number of equality constraint evaluations            = 0\n",
      "Number of inequality constraint evaluations          = 34\n",
      "Number of equality constraint Jacobian evaluations   = 0\n",
      "Number of inequality constraint Jacobian evaluations = 26\n",
      "Number of Lagrangian Hessian evaluations             = 25\n",
      "Total seconds in IPOPT                               = 0.014\n",
      "\n",
      "EXIT: Optimal Solution Found.\n"
     ]
    }
   ],
   "source": [
    "x0 = [-2; 1.0]\n",
    "@variable(model, x[i=1:2], start = x0[i])\n",
    "@NLconstraint(model, x[2] <= 1.5)\n",
    "@NLobjective(model, Min, (x[1] - 1)^2 + 100* (x[2] - x[1]^2)^2)\n",
    "optimize!(model)"
   ]
  },
  {
   "cell_type": "code",
   "execution_count": 11,
   "id": "2d6ea34d",
   "metadata": {},
   "outputs": [
    {
     "name": "stdout",
     "output_type": "stream",
     "text": [
      "Objective value: 1.4576726781667685e-14\n",
      "x[1] = 0.9999998794165199\n",
      "x[2] = 0.9999997582301355\n"
     ]
    }
   ],
   "source": [
    "# Check check results\n",
    "println(\"Objective value: \", objective_value(model))\n",
    "for i = 1:length(x)\n",
    "    println(\"x[$i] = \", value(x[i]))\n",
    "end"
   ]
  },
  {
   "cell_type": "code",
   "execution_count": null,
   "id": "6bd1b060",
   "metadata": {},
   "outputs": [],
   "source": []
  }
 ],
 "metadata": {
  "kernelspec": {
   "display_name": "Julia 1.9.0",
   "language": "julia",
   "name": "julia-1.9"
  },
  "language_info": {
   "file_extension": ".jl",
   "mimetype": "application/julia",
   "name": "julia",
   "version": "1.9.0"
  }
 },
 "nbformat": 4,
 "nbformat_minor": 5
}
