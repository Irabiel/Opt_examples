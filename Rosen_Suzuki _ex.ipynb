{
 "cells": [
  {
   "cell_type": "code",
   "execution_count": 1,
   "id": "55bc5ed0",
   "metadata": {},
   "outputs": [],
   "source": [
    "using JuMP, Ipopt"
   ]
  },
  {
   "cell_type": "markdown",
   "id": "e315eccd",
   "metadata": {},
   "source": [
    "# Model hs43\n",
    "  Variables\n",
    "  \n",
    "    x[1:4] = 0\n",
    "    obj\n",
    "  End Variables\n",
    "\n",
    "  Equations\n",
    "  \n",
    "    x[1]^2 +x[2]^2 +x[3]^2 +x[4]^2 +x[1] -x[2] +x[3] -x[4] <= 8\n",
    "    x[1]^2 +2*x[2]^2 +x[3]^2 +2*x[4]^2 -x[1] -x[4] <= 10\n",
    "    2*x[1]^2 +x[2]^2 +x[3]^2 +2*x[1] -x[2] -x[4] <= 5          \n",
    "\n",
    "    ! best known objective = -44\n",
    "    ! best known solution\n",
    "    ! x[1] = 0\n",
    "    ! x[2] = 1\n",
    "    ! x[3] = 2\n",
    "    ! x[4] = -1\n",
    "    obj = x[1]^2 + x[2]^2 + 2*x[3]^2 + x[4]^2 - 5*x[1] - 5*x[2] - 21*x[3] + 7*x[4]\n",
    "  End Equations\n",
    "End Model"
   ]
  },
  {
   "cell_type": "code",
   "execution_count": 2,
   "id": "3ea30e0e",
   "metadata": {},
   "outputs": [
    {
     "data": {
      "text/plain": [
       "A JuMP Model\n",
       "Feasibility problem with:\n",
       "Variables: 0\n",
       "Model mode: AUTOMATIC\n",
       "CachingOptimizer state: EMPTY_OPTIMIZER\n",
       "Solver name: Ipopt"
      ]
     },
     "execution_count": 2,
     "metadata": {},
     "output_type": "execute_result"
    }
   ],
   "source": [
    "model = Model(Ipopt.Optimizer)"
   ]
  },
  {
   "cell_type": "code",
   "execution_count": 3,
   "id": "dad664f4",
   "metadata": {},
   "outputs": [
    {
     "name": "stdout",
     "output_type": "stream",
     "text": [
      "\n",
      "******************************************************************************\n",
      "This program contains Ipopt, a library for large-scale nonlinear optimization.\n",
      " Ipopt is released as open source code under the Eclipse Public License (EPL).\n",
      "         For more information visit https://github.com/coin-or/Ipopt\n",
      "******************************************************************************\n",
      "\n",
      "This is Ipopt version 3.14.12, running with linear solver MUMPS 5.5.1.\n",
      "\n",
      "Number of nonzeros in equality constraint Jacobian...:        0\n",
      "Number of nonzeros in inequality constraint Jacobian.:       12\n",
      "Number of nonzeros in Lagrangian Hessian.............:       15\n",
      "\n",
      "Total number of variables............................:        4\n",
      "                     variables with only lower bounds:        0\n",
      "                variables with lower and upper bounds:        0\n",
      "                     variables with only upper bounds:        0\n",
      "Total number of equality constraints.................:        0\n",
      "Total number of inequality constraints...............:        3\n",
      "        inequality constraints with only lower bounds:        3\n",
      "   inequality constraints with lower and upper bounds:        0\n",
      "        inequality constraints with only upper bounds:        0\n",
      "\n",
      "iter    objective    inf_pr   inf_du lg(mu)  ||d||  lg(rg) alpha_du alpha_pr  ls\n",
      "   0  0.0000000e+00 0.00e+00 1.31e+01  -1.0 0.00e+00    -  0.00e+00 0.00e+00   0\n",
      "   1 -3.2386414e+01 0.00e+00 1.38e+01  -1.0 1.91e+00    -  9.79e-01 1.00e+00f  1\n",
      "   2 -4.9764857e+01 2.74e+00 7.98e+00  -1.0 1.61e+01    -  1.00e+00 3.81e-01f  1\n",
      "   3 -4.8045750e+01 1.56e+00 3.58e+00  -1.0 4.17e+00    -  1.00e+00 5.52e-01h  1\n",
      "   4 -4.4094239e+01 5.30e-02 5.23e-01  -1.0 4.75e-01    -  1.00e+00 1.00e+00h  1\n",
      "   5 -4.3971024e+01 0.00e+00 8.83e-03  -1.7 2.25e-01    -  1.00e+00 1.00e+00h  1\n",
      "   6 -4.4000082e+01 2.27e-04 8.85e-04  -3.8 8.06e-02    -  1.00e+00 9.73e-01h  1\n",
      "   7 -4.3999702e+01 0.00e+00 7.97e-06  -3.8 3.62e-03    -  1.00e+00 1.00e+00h  1\n",
      "   8 -4.3999996e+01 0.00e+00 2.84e-08  -5.7 4.40e-04    -  1.00e+00 1.00e+00h  1\n",
      "   9 -4.4000000e+01 0.00e+00 4.31e-12  -8.6 5.27e-06    -  1.00e+00 1.00e+00h  1\n",
      "\n",
      "Number of Iterations....: 9\n",
      "\n",
      "                                   (scaled)                 (unscaled)\n",
      "Objective...............:  -4.4000000024994399e+01   -4.4000000024994399e+01\n",
      "Dual infeasibility......:   4.3081094247554574e-12    4.3081094247554574e-12\n",
      "Constraint violation....:   0.0000000000000000e+00    0.0000000000000000e+00\n",
      "Variable bound violation:   0.0000000000000000e+00    0.0000000000000000e+00\n",
      "Complementarity.........:   2.5159811911106277e-09    2.5159811911106277e-09\n",
      "Overall NLP error.......:   2.5159811911106277e-09    2.5159811911106277e-09\n",
      "\n",
      "\n",
      "Number of objective function evaluations             = 10\n",
      "Number of objective gradient evaluations             = 10\n",
      "Number of equality constraint evaluations            = 0\n",
      "Number of inequality constraint evaluations          = 10\n",
      "Number of equality constraint Jacobian evaluations   = 0\n",
      "Number of inequality constraint Jacobian evaluations = 10\n",
      "Number of Lagrangian Hessian evaluations             = 9\n",
      "Total seconds in IPOPT                               = 0.009\n",
      "\n",
      "EXIT: Optimal Solution Found.\n"
     ]
    }
   ],
   "source": [
    "x0 = [0.0; 0.0; 0.0; 0.0]\n",
    "\n",
    "@variable(model, x[i=1:4], start = x0[i])\n",
    "@NLobjective(model, Min, x[1]^2 + x[2]^2 + 2*x[3]^2 + x[4]^2 - 5*x[1] - 5*x[2] -21*x[3] + 7*x[4])\n",
    "\n",
    "# Element-wise constraints\n",
    "@NLconstraint(model, 8 - x[1]^2 - x[2]^2 - x[3]^2 - x[4]^2 - x[1] + x[2] - x[3] + x[4] >= 0)\n",
    "@NLconstraint(model, 10 - x[1]^2 - 2*x[2]^2 - x[3]^2 - 2*x[4]^2 + x[1] + x[4] >= 0)\n",
    "@NLconstraint(model, 5 - 2*x[1]^2 - x[2]^2 - x[3]^2 - 2*x[1] + x[2] + x[4] >= 0) \n",
    "\n",
    "optimize!(model)"
   ]
  },
  {
   "cell_type": "code",
   "execution_count": 4,
   "id": "eb98626e",
   "metadata": {},
   "outputs": [
    {
     "name": "stdout",
     "output_type": "stream",
     "text": [
      "Objective value: -44.0000000249944\n",
      "x[1] = 1.2851640593610357e-9\n",
      "x[2] = 0.9999999996097106\n",
      "x[3] = 2.0000000018705566\n",
      "x[4] = -0.9999999990844427\n"
     ]
    }
   ],
   "source": [
    "# Check check results\n",
    "println(\"Objective value: \", objective_value(model))\n",
    "for i = 1:length(x)\n",
    "    println(\"x[$i] = \", value(x[i]))\n",
    "end"
   ]
  },
  {
   "cell_type": "code",
   "execution_count": null,
   "id": "55af7d32",
   "metadata": {},
   "outputs": [],
   "source": []
  }
 ],
 "metadata": {
  "kernelspec": {
   "display_name": "Julia 1.9.0",
   "language": "julia",
   "name": "julia-1.9"
  },
  "language_info": {
   "file_extension": ".jl",
   "mimetype": "application/julia",
   "name": "julia",
   "version": "1.9.0"
  }
 },
 "nbformat": 4,
 "nbformat_minor": 5
}
