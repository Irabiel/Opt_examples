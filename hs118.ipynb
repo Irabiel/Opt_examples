{
 "cells": [
  {
   "cell_type": "code",
   "execution_count": 1,
   "id": "970cba10",
   "metadata": {},
   "outputs": [],
   "source": [
    "using JuMP, Ipopt"
   ]
  },
  {
   "cell_type": "markdown",
   "id": "7bfd6e36",
   "metadata": {},
   "source": [
    "# Model hs118 \n",
    "  Variables\n",
    "\n",
    "    x[1]  = 20  > 8  < 21\n",
    "    x[2]  = 55  > 43 < 57\n",
    "    x[3]  = 15  > 3  < 16\n",
    "    x[4]  = 20  > 0  < 90\n",
    "    x[5]  = 60  > 0  < 120\n",
    "    x[6]  = 20  > 0  < 60 \n",
    "    x[7]  = 20  > 0  < 90\n",
    "    x[8]  = 60  > 0  < 120\n",
    "    x[9]  = 20  > 0  < 60 \n",
    "    x[10] = 20  > 0  < 90\n",
    "    x[11] = 60  > 0  < 120\n",
    "    x[12] = 20  > 0  < 60 \n",
    "    x[13] = 20  > 0  < 90\n",
    "    x[14] = 60  > 0  < 120\n",
    "    x[15] = 20  > 0  < 60 \n",
    "    obj[1:5]\n",
    "\n",
    "  End Variables\n",
    "\n",
    "  Equations\n",
    "\n",
    "    0 <= x[4]  - x[1]  + 7 <= 13\n",
    "    0 <= x[7]  - x[4]  + 7 <= 13\n",
    "    0 <= x[10] - x[7]  + 7 <= 13\n",
    "    0 <= x[13] - x[10] + 7 <= 13\n",
    "\n",
    "    0 <= x[5]  - x[2]  + 7 <= 14\n",
    "    0 <= x[8]  - x[5]  + 7 <= 14\n",
    "    0 <= x[11] - x[8]  + 7 <= 14\n",
    "    0 <= x[14] - x[11] + 7 <= 14\n",
    "\n",
    "    0 <= x[6]  - x[3]  + 7 <= 13\n",
    "    0 <= x[9]  - x[6]  + 7 <= 13\n",
    "    0 <= x[12] - x[9]  + 7 <= 13\n",
    "    0 <= x[15] - x[12] + 7 <= 13\n",
    "\n",
    "    x[1] + x[2] + x[3]    >= 60\n",
    "    x[4] + x[5] + x[6]    >= 50\n",
    "    x[7] + x[8] + x[9]    >= 70\n",
    "    x[10] + x[11] + x[12] >= 85\n",
    "    x[13] + x[14] + x[15] >= 100\n",
    "\n",
    "    ! best known objective = 664.8204500\n",
    "    obj[1] = (2.3*x[1]  + 0.0001*x[1]^2  + 1.7*x[2]  + 0.0001*x[2]^2  + 2.2*x[3]  + 0.00015*x[3]^2)\n",
    "    obj[2] = (2.3*x[4]  + 0.0001*x[4]^2  + 1.7*x[5]  + 0.0001*x[5]^2  + 2.2*x[6]  + 0.00015*x[6]^2)\n",
    "    obj[3] = (2.3*x[7]  + 0.0001*x[7]^2  + 1.7*x[8]  + 0.0001*x[8]^2  + 2.2*x[9]  + 0.00015*x[9]^2)\n",
    "    obj[4] = (2.3*x[10] + 0.0001*x[10]^2 + 1.7*x[11] + 0.0001*x[11]^2 + 2.2*x[12] + 0.00015*x[12]^2)\n",
    "    obj[5] = (2.3*x[13] + 0.0001*x[13]^2 + 1.7*x[14] + 0.0001*x[14]^2 + 2.2*x[15] + 0.00015*x[15]^2)\n",
    "\n",
    "  End Equations\n",
    "End Model"
   ]
  },
  {
   "cell_type": "code",
   "execution_count": 2,
   "id": "531f8575",
   "metadata": {},
   "outputs": [
    {
     "data": {
      "text/plain": [
       "A JuMP Model\n",
       "Feasibility problem with:\n",
       "Variables: 0\n",
       "Model mode: AUTOMATIC\n",
       "CachingOptimizer state: EMPTY_OPTIMIZER\n",
       "Solver name: Ipopt"
      ]
     },
     "execution_count": 2,
     "metadata": {},
     "output_type": "execute_result"
    }
   ],
   "source": [
    "model = Model(Ipopt.Optimizer)"
   ]
  },
  {
   "cell_type": "code",
   "execution_count": 3,
   "id": "2d409e44",
   "metadata": {},
   "outputs": [
    {
     "data": {
      "text/plain": [
       "15-element Vector{NonlinearConstraintRef{ScalarShape}}:\n",
       " 8 ≤ x[1] ≤ 21\n",
       " 43 ≤ x[2] ≤ 57\n",
       " 3 ≤ x[3] ≤ 16\n",
       " 0 ≤ x[4] ≤ 90\n",
       " 0 ≤ x[5] ≤ 120\n",
       " 0 ≤ x[6] ≤ 60\n",
       " 0 ≤ x[7] ≤ 90\n",
       " 0 ≤ x[8] ≤ 120\n",
       " 0 ≤ x[9] ≤ 60\n",
       " 0 ≤ x[10] ≤ 90\n",
       " 0 ≤ x[11] ≤ 120\n",
       " 0 ≤ x[12] ≤ 60\n",
       " 0 ≤ x[13] ≤ 90\n",
       " 0 ≤ x[14] ≤ 120\n",
       " 0 ≤ x[15] ≤ 60"
      ]
     },
     "execution_count": 3,
     "metadata": {},
     "output_type": "execute_result"
    }
   ],
   "source": [
    "#Variables\n",
    "\n",
    "x0 = [20, 55, 15, 20, 60, 20, 20,60, 20, 20, 60, 20, 20, 60, 20]\n",
    "lb = [8, 43, 3, 0, 0, 0, 0, 0, 0, 0, 0, 0,0 ,0 ,0]\n",
    "ub = [21, 57, 16, 90, 120, 60, 90, 120, 60, 90, 120, 60, 90, 120, 60]\n",
    "\n",
    "n = length(x0)\n",
    "\n",
    "@variable(model, x[i=1:n], start = x0[i])\n",
    "\n",
    "@NLconstraint(model, [i=1:n], lb[i] <= x[i] <= ub[i])\n"
   ]
  },
  {
   "cell_type": "code",
   "execution_count": 4,
   "id": "06fd8769",
   "metadata": {},
   "outputs": [
    {
     "data": {
      "text/plain": [
       "5-element Vector{NonlinearConstraintRef{ScalarShape}}:\n",
       " (60.0 - (x[1] + x[2] + x[3])) - 0.0 ≤ 0\n",
       " (50.0 - (x[4] + x[5] + x[6])) - 0.0 ≤ 0\n",
       " (70.0 - (x[7] + x[8] + x[9])) - 0.0 ≤ 0\n",
       " (85.0 - (x[10] + x[11] + x[12])) - 0.0 ≤ 0\n",
       " (100.0 - (x[13] + x[14] + x[15])) - 0.0 ≤ 0"
      ]
     },
     "execution_count": 4,
     "metadata": {},
     "output_type": "execute_result"
    }
   ],
   "source": [
    "expr_b1 = [13, 13, 13, 13, 14, 14, 14, 14, 13, 13, 13, 13]\n",
    "expr_b2 = [60, 50, 70, 85, 100]\n",
    "\n",
    "@NLconstraint(model, [i=1:12], 0<= x[i+3] - x[i] + 7 <= expr_b1[i])\n",
    "\n",
    "@NLconstraint(model, [i = 1:5], expr_b2[i] <= x[1 + 3*(i-1)] + x[2 + 3*(i-1)] + x[3 + 3*(i-1)])"
   ]
  },
  {
   "cell_type": "code",
   "execution_count": 5,
   "id": "9a158281",
   "metadata": {},
   "outputs": [
    {
     "name": "stdout",
     "output_type": "stream",
     "text": [
      "\n",
      "******************************************************************************\n",
      "This program contains Ipopt, a library for large-scale nonlinear optimization.\n",
      " Ipopt is released as open source code under the Eclipse Public License (EPL).\n",
      "         For more information visit https://github.com/coin-or/Ipopt\n",
      "******************************************************************************\n",
      "\n",
      "This is Ipopt version 3.14.12, running with linear solver MUMPS 5.5.1.\n",
      "\n",
      "Number of nonzeros in equality constraint Jacobian...:        0\n",
      "Number of nonzeros in inequality constraint Jacobian.:       54\n",
      "Number of nonzeros in Lagrangian Hessian.............:       15\n",
      "\n",
      "Total number of variables............................:       15\n",
      "                     variables with only lower bounds:        0\n",
      "                variables with lower and upper bounds:        0\n",
      "                     variables with only upper bounds:        0\n",
      "Total number of equality constraints.................:        0\n",
      "Total number of inequality constraints...............:       32\n",
      "        inequality constraints with only lower bounds:        0\n",
      "   inequality constraints with lower and upper bounds:       27\n",
      "        inequality constraints with only upper bounds:        5\n",
      "\n",
      "iter    objective    inf_pr   inf_du lg(mu)  ||d||  lg(rg) alpha_du alpha_pr  ls\n",
      "   0  9.4271625e+02 0.00e+00 6.44e-01  -1.0 0.00e+00    -  0.00e+00 0.00e+00   0\n",
      "   1  7.9919672e+02 0.00e+00 2.86e+00  -1.0 2.15e+01    -  2.25e-01 1.00e+00f  1\n",
      "   2  7.3807433e+02 0.00e+00 1.67e+00  -1.0 2.45e+01    -  3.83e-01 4.21e-01f  1\n",
      "   3  6.8527866e+02 0.00e+00 6.44e-01  -1.0 1.68e+01    -  5.06e-01 6.34e-01f  1\n",
      "   4  6.7022006e+02 0.00e+00 2.83e-01  -1.0 7.12e+00    -  7.46e-01 5.90e-01f  1\n",
      "   5  6.6729787e+02 0.00e+00 4.83e-01  -1.0 1.65e+00    -  9.95e-01 5.61e-01f  1\n",
      "   6  6.6566645e+02 0.00e+00 3.28e-02  -1.7 3.54e+00    -  8.30e-01 9.56e-01f  1\n",
      "   7  6.6523767e+02 0.00e+00 8.29e-03  -2.5 1.91e+00    -  8.69e-01 9.24e-01f  1\n",
      "   8  6.6518707e+02 0.00e+00 6.98e-03  -3.8 6.13e-01    -  9.55e-01 6.20e-01f  1\n",
      "   9  6.6516710e+02 0.00e+00 1.50e-09  -3.8 2.10e-02    -  1.00e+00 1.00e+00f  1\n",
      "iter    objective    inf_pr   inf_du lg(mu)  ||d||  lg(rg) alpha_du alpha_pr  ls\n",
      "  10  6.6516493e+02 0.00e+00 1.84e-11  -5.7 6.85e-03    -  1.00e+00 1.00e+00f  1\n",
      "  11  6.6516490e+02 0.00e+00 2.51e-14  -8.6 6.61e-05    -  1.00e+00 1.00e+00f  1\n",
      "\n",
      "Number of Iterations....: 11\n",
      "\n",
      "                                   (scaled)                 (unscaled)\n",
      "Objective...............:   6.6516489908674282e+02    6.6516489908674282e+02\n",
      "Dual infeasibility......:   2.5059035587193448e-14    2.5059035587193448e-14\n",
      "Constraint violation....:   0.0000000000000000e+00    0.0000000000000000e+00\n",
      "Variable bound violation:   0.0000000000000000e+00    0.0000000000000000e+00\n",
      "Complementarity.........:   2.5885326064677806e-09    2.5885326064677806e-09\n",
      "Overall NLP error.......:   2.5885326064677806e-09    2.5885326064677806e-09\n",
      "\n",
      "\n",
      "Number of objective function evaluations             = 12\n",
      "Number of objective gradient evaluations             = 12\n",
      "Number of equality constraint evaluations            = 0\n",
      "Number of inequality constraint evaluations          = 12\n",
      "Number of equality constraint Jacobian evaluations   = 0\n",
      "Number of inequality constraint Jacobian evaluations = 12\n",
      "Number of Lagrangian Hessian evaluations             = 11\n",
      "Total seconds in IPOPT                               = 0.010\n",
      "\n",
      "EXIT: Optimal Solution Found.\n"
     ]
    }
   ],
   "source": [
    "@NLexpression(model, obj1, 2.3 * x[1] + 0.0001 * x[1]^2 + 1.7 * x[2] + 0.0001 * x[2]^2 + 2.2 * x[3] + 0.00015 * x[3]^2)\n",
    "@NLexpression(model, obj2, 2.3 * x[4] + 0.0001 * x[4]^2 + 1.7 * x[5] + 0.0001 * x[5]^2 + 2.2 * x[6] + 0.00015 * x[6]^2)\n",
    "@NLexpression(model, obj3, 2.3 * x[7] + 0.0001 * x[7]^2 + 1.7 * x[8] + 0.0001 * x[8]^2 + 2.2 * x[9] + 0.00015 * x[9]^2)\n",
    "@NLexpression(model, obj4, 2.3 * x[10] + 0.0001 * x[10]^2 + 1.7 * x[11] + 0.0001 * x[11]^2 + 2.2 * x[12] + 0.00015 * x[12]^2)\n",
    "@NLexpression(model, obj5, 2.3 * x[13] + 0.0001 * x[13]^2 + 1.7 * x[14] + 0.0001 * x[14]^2 + 2.2 * x[15] + 0.00015 * x[15]^2)\n",
    "\n",
    "@NLobjective(model, Min, obj1 + obj2 + obj3 + obj4 + obj5)\n",
    "\n",
    "optimize!(model)\n"
   ]
  },
  {
   "cell_type": "code",
   "execution_count": 6,
   "id": "e5f85aea",
   "metadata": {},
   "outputs": [
    {
     "name": "stdout",
     "output_type": "stream",
     "text": [
      "Objective value: 665.1648990867428\n",
      "x[1] = 7.999999920850742\n",
      "x[2] = 49.0000000960451\n",
      "x[3] = 2.999999974615855\n",
      "x[4] = 0.9999999119394772\n",
      "x[5] = 55.0000001771151\n",
      "x[6] = -8.686482298809617e-9\n",
      "x[7] = 0.9999995526515723\n",
      "x[8] = 62.00000031569393\n",
      "x[9] = 7.000000122743002\n",
      "x[10] = 2.9999992978000067\n",
      "x[11] = 69.00000045355856\n",
      "x[12] = 13.000000239730362\n",
      "x[13] = 5.99999906837732\n",
      "x[14] = 75.00000057928251\n",
      "x[15] = 19.00000034342917\n"
     ]
    }
   ],
   "source": [
    "# Check check results\n",
    "println(\"Objective value: \", objective_value(model))\n",
    "for i = 1:length(x)\n",
    "    println(\"x[$i] = \", value(x[i]))\n",
    "end"
   ]
  },
  {
   "cell_type": "code",
   "execution_count": null,
   "id": "76585fd3",
   "metadata": {},
   "outputs": [],
   "source": []
  },
  {
   "cell_type": "code",
   "execution_count": null,
   "id": "7207242d",
   "metadata": {},
   "outputs": [],
   "source": []
  }
 ],
 "metadata": {
  "kernelspec": {
   "display_name": "Julia 1.9.0",
   "language": "julia",
   "name": "julia-1.9"
  },
  "language_info": {
   "file_extension": ".jl",
   "mimetype": "application/julia",
   "name": "julia",
   "version": "1.9.0"
  }
 },
 "nbformat": 4,
 "nbformat_minor": 5
}
